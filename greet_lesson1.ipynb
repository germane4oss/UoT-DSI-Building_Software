def greet(name: str, repeat: int = 1, goodbye: bool = False) -> None:

  if goodbye:
      message = 'We are coming back,'
  else:
      message = 'We have come in peace, take me to your leader'

  for _ in range(repeat):
      print(f'{message} {name}!')



greet('earthling')
greet('earthling', 3)
greet('Human',1,True)

